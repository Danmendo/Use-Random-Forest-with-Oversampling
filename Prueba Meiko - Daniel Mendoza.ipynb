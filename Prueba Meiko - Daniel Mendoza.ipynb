{
 "cells": [
  {
   "cell_type": "code",
   "execution_count": 159,
   "metadata": {},
   "outputs": [],
   "source": [
    "import pandas as pd\n",
    "import matplotlib.pyplot as plt\n",
    "import random\n",
    "from sklearn.model_selection import train_test_split\n",
    "from sklearn.ensemble import RandomForestClassifier\n",
    "from sklearn import metrics\n",
    "from sklearn.metrics import plot_confusion_matrix"
   ]
  },
  {
   "cell_type": "code",
   "execution_count": 160,
   "metadata": {},
   "outputs": [],
   "source": [
    "plt.rcParams['figure.figsize'] = [12, 8]"
   ]
  },
  {
   "cell_type": "markdown",
   "metadata": {},
   "source": [
    "# Modelo Supervisado"
   ]
  },
  {
   "cell_type": "code",
   "execution_count": 161,
   "metadata": {},
   "outputs": [],
   "source": [
    "BaseSuper = pd.read_excel(\"Modelo Supervisado.xlsx\")"
   ]
  },
  {
   "cell_type": "code",
   "execution_count": 84,
   "metadata": {},
   "outputs": [
    {
     "name": "stdout",
     "output_type": "stream",
     "text": [
      "<class 'pandas.core.frame.DataFrame'>\n",
      "RangeIndex: 107039 entries, 0 to 107038\n",
      "Data columns (total 9 columns):\n",
      " #   Column                    Non-Null Count   Dtype  \n",
      "---  ------                    --------------   -----  \n",
      " 0   Id_Tabla                  107039 non-null  int64  \n",
      " 1   Levdireccion              107039 non-null  float64\n",
      " 2   Levdirnum                 107039 non-null  float64\n",
      " 3   Levpropietario            107039 non-null  float64\n",
      " 4   Levtelefono               107039 non-null  int64  \n",
      " 5   Lev_Sticker               107039 non-null  int64  \n",
      " 6   Levnombreestablecimiento  107022 non-null  float64\n",
      " 7   Distancia En Metros       101851 non-null  float64\n",
      " 8   Match                     107039 non-null  int64  \n",
      "dtypes: float64(5), int64(4)\n",
      "memory usage: 7.3 MB\n"
     ]
    }
   ],
   "source": [
    "BaseSuper.info()"
   ]
  },
  {
   "cell_type": "markdown",
   "metadata": {},
   "source": [
    "### Aquí podemos observar que la variable \"Levnombreestablecimiento\" y \"Distancia en metros\" tienen 17 y 5171 valore nulos respectivamente."
   ]
  },
  {
   "cell_type": "code",
   "execution_count": 85,
   "metadata": {},
   "outputs": [
    {
     "data": {
      "text/plain": [
       "0    0.934267\n",
       "1    0.065733\n",
       "Name: Match, dtype: float64"
      ]
     },
     "execution_count": 85,
     "metadata": {},
     "output_type": "execute_result"
    }
   ],
   "source": [
    "BaseSuper[\"Match\"] = BaseSuper[\"Match\"].astype(str)\n",
    "BaseSuper.Match.value_counts()/sum(BaseSuper.Match.value_counts())"
   ]
  },
  {
   "cell_type": "markdown",
   "metadata": {},
   "source": [
    "### Además calaramente se nota una desproporción entre las categorías de la variable de clasificación"
   ]
  },
  {
   "cell_type": "markdown",
   "metadata": {},
   "source": [
    "# Imputación de datos"
   ]
  },
  {
   "cell_type": "markdown",
   "metadata": {},
   "source": [
    "### El proceso que se llevará a cabo para la imputación de datos es rellenar los valores nulos con la media de las variables\n"
   ]
  },
  {
   "cell_type": "code",
   "execution_count": 86,
   "metadata": {},
   "outputs": [],
   "source": [
    "values0 = {'Levnombreestablecimiento': BaseSuper[BaseSuper.Match == '0'].Levnombreestablecimiento.mean(), 'Distancia En Metros': BaseSuper.loc[BaseSuper.Match == '0', \"Distancia En Metros\"].mean()}\n",
    "values1 = {'Levnombreestablecimiento': BaseSuper[BaseSuper.Match == '1'].Levnombreestablecimiento.mean(), 'Distancia En Metros': BaseSuper.loc[BaseSuper.Match == '1', \"Distancia En Metros\"].mean()}"
   ]
  },
  {
   "cell_type": "code",
   "execution_count": 87,
   "metadata": {},
   "outputs": [],
   "source": [
    "BaseSuper[BaseSuper.Match == '0'] = BaseSuper[BaseSuper.Match == '0'].fillna(values0)\n",
    "BaseSuper[BaseSuper.Match == '1'] = BaseSuper[BaseSuper.Match == '1'].fillna(values1)"
   ]
  },
  {
   "cell_type": "code",
   "execution_count": 88,
   "metadata": {},
   "outputs": [
    {
     "data": {
      "text/html": [
       "<div>\n",
       "<style scoped>\n",
       "    .dataframe tbody tr th:only-of-type {\n",
       "        vertical-align: middle;\n",
       "    }\n",
       "\n",
       "    .dataframe tbody tr th {\n",
       "        vertical-align: top;\n",
       "    }\n",
       "\n",
       "    .dataframe thead th {\n",
       "        text-align: right;\n",
       "    }\n",
       "</style>\n",
       "<table border=\"1\" class=\"dataframe\">\n",
       "  <thead>\n",
       "    <tr style=\"text-align: right;\">\n",
       "      <th></th>\n",
       "      <th>Id_Tabla</th>\n",
       "      <th>Levdireccion</th>\n",
       "      <th>Levdirnum</th>\n",
       "      <th>Levpropietario</th>\n",
       "      <th>Levtelefono</th>\n",
       "      <th>Lev_Sticker</th>\n",
       "      <th>Levnombreestablecimiento</th>\n",
       "      <th>Distancia En Metros</th>\n",
       "      <th>Match</th>\n",
       "    </tr>\n",
       "  </thead>\n",
       "  <tbody>\n",
       "    <tr>\n",
       "      <th>0</th>\n",
       "      <td>1</td>\n",
       "      <td>1.000000</td>\n",
       "      <td>0.933333</td>\n",
       "      <td>0.428571</td>\n",
       "      <td>0</td>\n",
       "      <td>0</td>\n",
       "      <td>1.000000</td>\n",
       "      <td>13.960982</td>\n",
       "      <td>1</td>\n",
       "    </tr>\n",
       "    <tr>\n",
       "      <th>1</th>\n",
       "      <td>2</td>\n",
       "      <td>1.000000</td>\n",
       "      <td>1.000000</td>\n",
       "      <td>0.740741</td>\n",
       "      <td>0</td>\n",
       "      <td>0</td>\n",
       "      <td>0.388889</td>\n",
       "      <td>13.960982</td>\n",
       "      <td>1</td>\n",
       "    </tr>\n",
       "    <tr>\n",
       "      <th>2</th>\n",
       "      <td>3</td>\n",
       "      <td>0.848485</td>\n",
       "      <td>0.900000</td>\n",
       "      <td>0.541667</td>\n",
       "      <td>0</td>\n",
       "      <td>0</td>\n",
       "      <td>1.000000</td>\n",
       "      <td>21.466099</td>\n",
       "      <td>1</td>\n",
       "    </tr>\n",
       "    <tr>\n",
       "      <th>3</th>\n",
       "      <td>4</td>\n",
       "      <td>0.806452</td>\n",
       "      <td>0.833333</td>\n",
       "      <td>0.457143</td>\n",
       "      <td>0</td>\n",
       "      <td>0</td>\n",
       "      <td>1.000000</td>\n",
       "      <td>1.705346</td>\n",
       "      <td>1</td>\n",
       "    </tr>\n",
       "    <tr>\n",
       "      <th>4</th>\n",
       "      <td>5</td>\n",
       "      <td>1.000000</td>\n",
       "      <td>1.000000</td>\n",
       "      <td>0.500000</td>\n",
       "      <td>0</td>\n",
       "      <td>0</td>\n",
       "      <td>0.950000</td>\n",
       "      <td>27.561843</td>\n",
       "      <td>1</td>\n",
       "    </tr>\n",
       "    <tr>\n",
       "      <th>...</th>\n",
       "      <td>...</td>\n",
       "      <td>...</td>\n",
       "      <td>...</td>\n",
       "      <td>...</td>\n",
       "      <td>...</td>\n",
       "      <td>...</td>\n",
       "      <td>...</td>\n",
       "      <td>...</td>\n",
       "      <td>...</td>\n",
       "    </tr>\n",
       "    <tr>\n",
       "      <th>107034</th>\n",
       "      <td>107035</td>\n",
       "      <td>0.700000</td>\n",
       "      <td>0.777778</td>\n",
       "      <td>0.410256</td>\n",
       "      <td>0</td>\n",
       "      <td>0</td>\n",
       "      <td>0.500000</td>\n",
       "      <td>14.399315</td>\n",
       "      <td>0</td>\n",
       "    </tr>\n",
       "    <tr>\n",
       "      <th>107035</th>\n",
       "      <td>107036</td>\n",
       "      <td>0.766667</td>\n",
       "      <td>0.777778</td>\n",
       "      <td>0.425000</td>\n",
       "      <td>0</td>\n",
       "      <td>0</td>\n",
       "      <td>0.583333</td>\n",
       "      <td>14.399315</td>\n",
       "      <td>0</td>\n",
       "    </tr>\n",
       "    <tr>\n",
       "      <th>107036</th>\n",
       "      <td>107037</td>\n",
       "      <td>0.861111</td>\n",
       "      <td>0.850000</td>\n",
       "      <td>0.523810</td>\n",
       "      <td>0</td>\n",
       "      <td>0</td>\n",
       "      <td>0.545455</td>\n",
       "      <td>44.386999</td>\n",
       "      <td>0</td>\n",
       "    </tr>\n",
       "    <tr>\n",
       "      <th>107037</th>\n",
       "      <td>107038</td>\n",
       "      <td>0.766667</td>\n",
       "      <td>0.833333</td>\n",
       "      <td>0.425000</td>\n",
       "      <td>0</td>\n",
       "      <td>0</td>\n",
       "      <td>0.555556</td>\n",
       "      <td>12.524179</td>\n",
       "      <td>0</td>\n",
       "    </tr>\n",
       "    <tr>\n",
       "      <th>107038</th>\n",
       "      <td>107039</td>\n",
       "      <td>0.892857</td>\n",
       "      <td>0.785714</td>\n",
       "      <td>0.444444</td>\n",
       "      <td>0</td>\n",
       "      <td>0</td>\n",
       "      <td>0.473684</td>\n",
       "      <td>41.964771</td>\n",
       "      <td>0</td>\n",
       "    </tr>\n",
       "  </tbody>\n",
       "</table>\n",
       "<p>107039 rows × 9 columns</p>\n",
       "</div>"
      ],
      "text/plain": [
       "        Id_Tabla  Levdireccion  Levdirnum  Levpropietario  Levtelefono  \\\n",
       "0              1      1.000000   0.933333        0.428571            0   \n",
       "1              2      1.000000   1.000000        0.740741            0   \n",
       "2              3      0.848485   0.900000        0.541667            0   \n",
       "3              4      0.806452   0.833333        0.457143            0   \n",
       "4              5      1.000000   1.000000        0.500000            0   \n",
       "...          ...           ...        ...             ...          ...   \n",
       "107034    107035      0.700000   0.777778        0.410256            0   \n",
       "107035    107036      0.766667   0.777778        0.425000            0   \n",
       "107036    107037      0.861111   0.850000        0.523810            0   \n",
       "107037    107038      0.766667   0.833333        0.425000            0   \n",
       "107038    107039      0.892857   0.785714        0.444444            0   \n",
       "\n",
       "        Lev_Sticker  Levnombreestablecimiento  Distancia En Metros Match  \n",
       "0                 0                  1.000000            13.960982     1  \n",
       "1                 0                  0.388889            13.960982     1  \n",
       "2                 0                  1.000000            21.466099     1  \n",
       "3                 0                  1.000000             1.705346     1  \n",
       "4                 0                  0.950000            27.561843     1  \n",
       "...             ...                       ...                  ...   ...  \n",
       "107034            0                  0.500000            14.399315     0  \n",
       "107035            0                  0.583333            14.399315     0  \n",
       "107036            0                  0.545455            44.386999     0  \n",
       "107037            0                  0.555556            12.524179     0  \n",
       "107038            0                  0.473684            41.964771     0  \n",
       "\n",
       "[107039 rows x 9 columns]"
      ]
     },
     "execution_count": 88,
     "metadata": {},
     "output_type": "execute_result"
    }
   ],
   "source": [
    "BaseSuper"
   ]
  },
  {
   "cell_type": "markdown",
   "metadata": {},
   "source": [
    "# Análisis descriptivo"
   ]
  },
  {
   "cell_type": "code",
   "execution_count": 89,
   "metadata": {},
   "outputs": [],
   "source": [
    "MeanTable = BaseSuper.groupby(\"Match\").mean().drop([\"Id_Tabla\", \"Distancia En Metros\"], axis = 1).transpose()\n",
    "MeanTableDist = BaseSuper.groupby(\"Match\").mean()[\"Distancia En Metros\"].transpose()\n",
    "MeanTableDist = pd.DataFrame(MeanTableDist).transpose()"
   ]
  },
  {
   "cell_type": "code",
   "execution_count": 90,
   "metadata": {},
   "outputs": [],
   "source": [
    "pos = np.arange(MeanTable.shape[0])\n",
    "bar_width = 0.35"
   ]
  },
  {
   "cell_type": "code",
   "execution_count": 91,
   "metadata": {},
   "outputs": [
    {
     "data": {
      "image/png": "[encoded data removed]",
      "text/plain": [
       "<Figure size 864x576 with 1 Axes>"
      ]
     },
     "metadata": {
      "needs_background": "light"
     },
     "output_type": "display_data"
    }
   ],
   "source": [
    "plt.bar(pos,MeanTable.iloc[:,0],bar_width,color='blue',edgecolor='black')\n",
    "plt.bar(pos+bar_width,MeanTable.iloc[:,1],bar_width,color='skyblue',edgecolor='black')\n",
    "plt.xticks(pos, list(MeanTable.index))\n",
    "plt.xlabel('Levs', fontsize=16)\n",
    "plt.ylabel('Mean', fontsize=16)\n",
    "plt.title('Mean of Levs for Match',fontsize=18)\n",
    "plt.legend(list(MeanTable.columns),loc=2)\n",
    "plt.show()"
   ]
  },
  {
   "cell_type": "code",
   "execution_count": 92,
   "metadata": {},
   "outputs": [
    {
     "data": {
      "image/png": "[encoded data removed]",
      "text/plain": [
       "<Figure size 864x576 with 1 Axes>"
      ]
     },
     "metadata": {
      "needs_background": "light"
     },
     "output_type": "display_data"
    }
   ],
   "source": [
    "plt.bar([0],MeanTableDist.iloc[:,0],bar_width,color='blue',edgecolor='black')\n",
    "plt.bar([0.35],MeanTableDist.iloc[:,1],bar_width,color='skyblue',edgecolor='black')\n",
    "plt.xticks([0], list(MeanTableDist.index))\n",
    "plt.ylabel('Mean', fontsize=16)\n",
    "plt.title('Mean of Distancia en Metros',fontsize=18)\n",
    "plt.legend(list(MeanTableDist.columns),loc=2)\n",
    "plt.show()"
   ]
  },
  {
   "cell_type": "markdown",
   "metadata": {},
   "source": [
    "### De los anteriores gráficos se pueden deducir algunas cosas como, todas las variables \"Levs\" exceptuando Levtelefono y LevPropietario tienen una diferencia en promedio importante lo cual nos puede ayudar a dar conclusiones superficiales de como se comportan los datos, y una de estas podría ser que, aquellos registros que tienen valores mayores a 0.8 tanto en LevDireccion como en LevDirnum y mayores a 0.5 en Levnombreestablecimiento pertenecen a la categoría 1 de Match"
   ]
  },
  {
   "cell_type": "markdown",
   "metadata": {},
   "source": [
    "### Por otro lado la Distancia en metros nos dice que los registros de la categoría 1 son mas cercanos que aquellos registros pertenecientes a la categoría 0."
   ]
  },
  {
   "cell_type": "markdown",
   "metadata": {},
   "source": [
    "# Estructuración del modelo\n"
   ]
  },
  {
   "cell_type": "markdown",
   "metadata": {},
   "source": [
    "### Dividimos la muestra de datos en train y test"
   ]
  },
  {
   "cell_type": "code",
   "execution_count": 124,
   "metadata": {},
   "outputs": [],
   "source": [
    "train_set, test_set = train_test_split(BaseSuper, test_size=0.2,\n",
    "random_state=42)"
   ]
  },
  {
   "cell_type": "markdown",
   "metadata": {},
   "source": [
    "###  Debido a la desproporción tan importante que existe en la categoría de clasificación (\"Match\"), podemos observar que es necesario usar técnicas como remuestreo que ayuden a diferenciar mejor las categoría y de esta manera obtener un mejor resultado en el modelo."
   ]
  },
  {
   "cell_type": "code",
   "execution_count": 125,
   "metadata": {
    "scrolled": true
   },
   "outputs": [
    {
     "data": {
      "text/plain": [
       "0    0.93444\n",
       "1    0.06556\n",
       "Name: Match, dtype: float64"
      ]
     },
     "execution_count": 125,
     "metadata": {},
     "output_type": "execute_result"
    }
   ],
   "source": [
    "train_set.Match.value_counts()/sum(train_set.Match.value_counts())"
   ]
  },
  {
   "cell_type": "markdown",
   "metadata": {},
   "source": [
    "### En esta parte realizaremos el remuestreo de la información "
   ]
  },
  {
   "cell_type": "code",
   "execution_count": 95,
   "metadata": {},
   "outputs": [],
   "source": [
    "train1 = train_set[train_set.Match == '1'].sample(n = round(0.9*train_set[train_set.Match == '0'].shape[0]), replace = True, random_state = 6012021)"
   ]
  },
  {
   "cell_type": "code",
   "execution_count": 96,
   "metadata": {
    "scrolled": false
   },
   "outputs": [
    {
     "data": {
      "text/html": [
       "<div>\n",
       "<style scoped>\n",
       "    .dataframe tbody tr th:only-of-type {\n",
       "        vertical-align: middle;\n",
       "    }\n",
       "\n",
       "    .dataframe tbody tr th {\n",
       "        vertical-align: top;\n",
       "    }\n",
       "\n",
       "    .dataframe thead th {\n",
       "        text-align: right;\n",
       "    }\n",
       "</style>\n",
       "<table border=\"1\" class=\"dataframe\">\n",
       "  <thead>\n",
       "    <tr style=\"text-align: right;\">\n",
       "      <th></th>\n",
       "      <th>Id_Tabla</th>\n",
       "      <th>Levdireccion</th>\n",
       "      <th>Levdirnum</th>\n",
       "      <th>Levpropietario</th>\n",
       "      <th>Levtelefono</th>\n",
       "      <th>Lev_Sticker</th>\n",
       "      <th>Levnombreestablecimiento</th>\n",
       "      <th>Distancia En Metros</th>\n",
       "      <th>Match</th>\n",
       "    </tr>\n",
       "  </thead>\n",
       "  <tbody>\n",
       "    <tr>\n",
       "      <th>234</th>\n",
       "      <td>235</td>\n",
       "      <td>1.000000</td>\n",
       "      <td>1.000000</td>\n",
       "      <td>0.477273</td>\n",
       "      <td>0</td>\n",
       "      <td>0</td>\n",
       "      <td>0.470588</td>\n",
       "      <td>13.960982</td>\n",
       "      <td>1</td>\n",
       "    </tr>\n",
       "    <tr>\n",
       "      <th>2899</th>\n",
       "      <td>2900</td>\n",
       "      <td>0.814815</td>\n",
       "      <td>0.888889</td>\n",
       "      <td>0.800000</td>\n",
       "      <td>0</td>\n",
       "      <td>0</td>\n",
       "      <td>0.200000</td>\n",
       "      <td>13.960982</td>\n",
       "      <td>1</td>\n",
       "    </tr>\n",
       "    <tr>\n",
       "      <th>6011</th>\n",
       "      <td>6012</td>\n",
       "      <td>0.925926</td>\n",
       "      <td>0.928571</td>\n",
       "      <td>0.536585</td>\n",
       "      <td>0</td>\n",
       "      <td>0</td>\n",
       "      <td>0.761905</td>\n",
       "      <td>6.794598</td>\n",
       "      <td>1</td>\n",
       "    </tr>\n",
       "    <tr>\n",
       "      <th>3481</th>\n",
       "      <td>3482</td>\n",
       "      <td>0.972973</td>\n",
       "      <td>0.933333</td>\n",
       "      <td>0.555556</td>\n",
       "      <td>0</td>\n",
       "      <td>0</td>\n",
       "      <td>0.857143</td>\n",
       "      <td>13.960982</td>\n",
       "      <td>1</td>\n",
       "    </tr>\n",
       "    <tr>\n",
       "      <th>6960</th>\n",
       "      <td>6961</td>\n",
       "      <td>0.823529</td>\n",
       "      <td>1.000000</td>\n",
       "      <td>0.475000</td>\n",
       "      <td>0</td>\n",
       "      <td>0</td>\n",
       "      <td>0.869565</td>\n",
       "      <td>8.257512</td>\n",
       "      <td>1</td>\n",
       "    </tr>\n",
       "    <tr>\n",
       "      <th>...</th>\n",
       "      <td>...</td>\n",
       "      <td>...</td>\n",
       "      <td>...</td>\n",
       "      <td>...</td>\n",
       "      <td>...</td>\n",
       "      <td>...</td>\n",
       "      <td>...</td>\n",
       "      <td>...</td>\n",
       "      <td>...</td>\n",
       "    </tr>\n",
       "    <tr>\n",
       "      <th>1694</th>\n",
       "      <td>1695</td>\n",
       "      <td>0.777778</td>\n",
       "      <td>0.736842</td>\n",
       "      <td>0.565217</td>\n",
       "      <td>0</td>\n",
       "      <td>1</td>\n",
       "      <td>1.000000</td>\n",
       "      <td>6.769089</td>\n",
       "      <td>1</td>\n",
       "    </tr>\n",
       "    <tr>\n",
       "      <th>5404</th>\n",
       "      <td>5405</td>\n",
       "      <td>0.916667</td>\n",
       "      <td>0.933333</td>\n",
       "      <td>0.555556</td>\n",
       "      <td>0</td>\n",
       "      <td>0</td>\n",
       "      <td>1.000000</td>\n",
       "      <td>0.553562</td>\n",
       "      <td>1</td>\n",
       "    </tr>\n",
       "    <tr>\n",
       "      <th>2155</th>\n",
       "      <td>2156</td>\n",
       "      <td>0.909091</td>\n",
       "      <td>0.875000</td>\n",
       "      <td>0.560976</td>\n",
       "      <td>0</td>\n",
       "      <td>0</td>\n",
       "      <td>0.823529</td>\n",
       "      <td>3.664184</td>\n",
       "      <td>1</td>\n",
       "    </tr>\n",
       "    <tr>\n",
       "      <th>3938</th>\n",
       "      <td>3939</td>\n",
       "      <td>1.000000</td>\n",
       "      <td>1.000000</td>\n",
       "      <td>0.526316</td>\n",
       "      <td>0</td>\n",
       "      <td>0</td>\n",
       "      <td>0.689655</td>\n",
       "      <td>13.960982</td>\n",
       "      <td>1</td>\n",
       "    </tr>\n",
       "    <tr>\n",
       "      <th>2291</th>\n",
       "      <td>2292</td>\n",
       "      <td>0.960000</td>\n",
       "      <td>0.933333</td>\n",
       "      <td>0.529412</td>\n",
       "      <td>0</td>\n",
       "      <td>0</td>\n",
       "      <td>0.526316</td>\n",
       "      <td>7.012474</td>\n",
       "      <td>1</td>\n",
       "    </tr>\n",
       "  </tbody>\n",
       "</table>\n",
       "<p>72015 rows × 9 columns</p>\n",
       "</div>"
      ],
      "text/plain": [
       "      Id_Tabla  Levdireccion  Levdirnum  Levpropietario  Levtelefono  \\\n",
       "234        235      1.000000   1.000000        0.477273            0   \n",
       "2899      2900      0.814815   0.888889        0.800000            0   \n",
       "6011      6012      0.925926   0.928571        0.536585            0   \n",
       "3481      3482      0.972973   0.933333        0.555556            0   \n",
       "6960      6961      0.823529   1.000000        0.475000            0   \n",
       "...        ...           ...        ...             ...          ...   \n",
       "1694      1695      0.777778   0.736842        0.565217            0   \n",
       "5404      5405      0.916667   0.933333        0.555556            0   \n",
       "2155      2156      0.909091   0.875000        0.560976            0   \n",
       "3938      3939      1.000000   1.000000        0.526316            0   \n",
       "2291      2292      0.960000   0.933333        0.529412            0   \n",
       "\n",
       "      Lev_Sticker  Levnombreestablecimiento  Distancia En Metros Match  \n",
       "234             0                  0.470588            13.960982     1  \n",
       "2899            0                  0.200000            13.960982     1  \n",
       "6011            0                  0.761905             6.794598     1  \n",
       "3481            0                  0.857143            13.960982     1  \n",
       "6960            0                  0.869565             8.257512     1  \n",
       "...           ...                       ...                  ...   ...  \n",
       "1694            1                  1.000000             6.769089     1  \n",
       "5404            0                  1.000000             0.553562     1  \n",
       "2155            0                  0.823529             3.664184     1  \n",
       "3938            0                  0.689655            13.960982     1  \n",
       "2291            0                  0.526316             7.012474     1  \n",
       "\n",
       "[72015 rows x 9 columns]"
      ]
     },
     "execution_count": 96,
     "metadata": {},
     "output_type": "execute_result"
    }
   ],
   "source": [
    "train1"
   ]
  },
  {
   "cell_type": "markdown",
   "metadata": {},
   "source": [
    "### train_set_r será la base de datos remuestreada"
   ]
  },
  {
   "cell_type": "code",
   "execution_count": 126,
   "metadata": {},
   "outputs": [],
   "source": [
    "train_set_r = pd.concat([train_set[train_set.Match == '0'], train1])"
   ]
  },
  {
   "cell_type": "markdown",
   "metadata": {},
   "source": [
    "### En principio procederemos entonces a realizar el ajuste del modelo con la base de datos sin remuestrear, observaremos los resultados y posteriormente se realizará la comparación con la base de datos remuestreada"
   ]
  },
  {
   "cell_type": "markdown",
   "metadata": {},
   "source": [
    "### Vamos a usar un RandomForest para la clasificación sin la base remuestreada"
   ]
  },
  {
   "cell_type": "code",
   "execution_count": 127,
   "metadata": {},
   "outputs": [],
   "source": [
    "X_test = test_set.drop([\"Id_Tabla\", \"Match\"], axis = 1).values\n",
    "X_train = train_set.drop([\"Id_Tabla\", \"Match\"], axis = 1).values\n",
    "y_test = test_set[\"Match\"].values.reshape(-1, 1)\n",
    "y_train = train_set[\"Match\"].values.reshape(-1, 1)"
   ]
  },
  {
   "cell_type": "code",
   "execution_count": 146,
   "metadata": {},
   "outputs": [],
   "source": [
    "random.seed(6012021)\n",
    "forest_cla = RandomForestClassifier()"
   ]
  },
  {
   "cell_type": "code",
   "execution_count": 147,
   "metadata": {},
   "outputs": [
    {
     "name": "stderr",
     "output_type": "stream",
     "text": [
      "<ipython-input-147-aa9cbcd7105f>:1: DataConversionWarning: A column-vector y was passed when a 1d array was expected. Please change the shape of y to (n_samples,), for example using ravel().\n",
      "  forest_cla.fit(X_train, y_train)\n"
     ]
    },
    {
     "data": {
      "text/plain": [
       "RandomForestClassifier()"
      ]
     },
     "execution_count": 147,
     "metadata": {},
     "output_type": "execute_result"
    }
   ],
   "source": [
    "forest_cla.fit(X_train, y_train)"
   ]
  },
  {
   "cell_type": "code",
   "execution_count": 148,
   "metadata": {},
   "outputs": [],
   "source": [
    "y_pred=forest_cla.predict(X_test)"
   ]
  },
  {
   "cell_type": "code",
   "execution_count": 149,
   "metadata": {},
   "outputs": [
    {
     "name": "stdout",
     "output_type": "stream",
     "text": [
      "Accuracy: 0.9757567264573991\n"
     ]
    }
   ],
   "source": [
    "print(\"Accuracy:\",metrics.accuracy_score(y_test, y_pred))"
   ]
  },
  {
   "cell_type": "markdown",
   "metadata": {},
   "source": [
    "### Obtenemos una precisión del 97.6% sin el remuestreo de la información"
   ]
  },
  {
   "cell_type": "code",
   "execution_count": 150,
   "metadata": {},
   "outputs": [
    {
     "name": "stdout",
     "output_type": "stream",
     "text": [
      "[[0.98889222 0.01110778]\n",
      " [0.20886076 0.79113924]]\n"
     ]
    },
    {
     "data": {
      "image/png": "[encoded data removed]",
      "text/plain": [
       "<Figure size 864x576 with 2 Axes>"
      ]
     },
     "metadata": {
      "needs_background": "light"
     },
     "output_type": "display_data"
    }
   ],
   "source": [
    "disp = plot_confusion_matrix(forest_cla, X_test, y_test,\n",
    "                                 display_labels=[\"0\", \"1\"],cmap=plt.cm.Blues, normalize = 'true')\n",
    "\n",
    "print(disp.confusion_matrix)\n",
    "    \n",
    "plt.show()"
   ]
  },
  {
   "cell_type": "markdown",
   "metadata": {},
   "source": [
    "### Podemos observar que el porcentaje de calsificación para la categoría 1 es del 98.9% y para la categoría 0, del 79.1%\n"
   ]
  },
  {
   "cell_type": "code",
   "execution_count": 151,
   "metadata": {},
   "outputs": [
    {
     "name": "stdout",
     "output_type": "stream",
     "text": [
      "Feature: 'Levdireccion' , Score: 0.16602\n",
      "Feature: 'Levdirnum' , Score: 0.27192\n",
      "Feature: 'Levpropietario' , Score: 0.07466\n",
      "Feature: 'Levtelefono' , Score: 0.00392\n",
      "Feature: 'Lev_Sticker' , Score: 0.02784\n",
      "Feature: 'Levnombreestablecimiento' , Score: 0.26114\n",
      "Feature: 'Distancia En Metros' , Score: 0.19450\n"
     ]
    }
   ],
   "source": [
    "importance = forest_cla.feature_importances_\n",
    "# summarize feature importance\n",
    "for i,v in zip(list(test_set.drop([\"Id_Tabla\", \"Match\"], axis = 1).columns), importance):\n",
    "    print('Feature: %a , Score: %.5f' % (i,v))"
   ]
  },
  {
   "cell_type": "markdown",
   "metadata": {},
   "source": [
    "### Observamos que las variables mas importantes son Levdirnum, Levnombreestablecimiento  y Distancia en metros, que si lo analizamos bien es un resultado que soporta las conclusiones superficiales que se realizaron con el análisis descriptivo."
   ]
  },
  {
   "cell_type": "markdown",
   "metadata": {},
   "source": [
    "### Vamos a usar un RandomForest para la clasificación con la base REMUESTREADA\n"
   ]
  },
  {
   "cell_type": "code",
   "execution_count": 152,
   "metadata": {},
   "outputs": [],
   "source": [
    "X_test = test_set.drop([\"Id_Tabla\", \"Match\"], axis = 1).values\n",
    "X_train = train_set_r.drop([\"Id_Tabla\", \"Match\"], axis = 1).values\n",
    "y_test = test_set[\"Match\"].values.reshape(-1, 1)\n",
    "y_train = train_set_r[\"Match\"].values.reshape(-1, 1)"
   ]
  },
  {
   "cell_type": "code",
   "execution_count": 153,
   "metadata": {},
   "outputs": [
    {
     "name": "stderr",
     "output_type": "stream",
     "text": [
      "<ipython-input-153-aa9cbcd7105f>:1: DataConversionWarning: A column-vector y was passed when a 1d array was expected. Please change the shape of y to (n_samples,), for example using ravel().\n",
      "  forest_cla.fit(X_train, y_train)\n"
     ]
    },
    {
     "data": {
      "text/plain": [
       "RandomForestClassifier()"
      ]
     },
     "execution_count": 153,
     "metadata": {},
     "output_type": "execute_result"
    }
   ],
   "source": [
    "forest_cla.fit(X_train, y_train)"
   ]
  },
  {
   "cell_type": "code",
   "execution_count": 154,
   "metadata": {},
   "outputs": [],
   "source": [
    "y_pred=forest_cla.predict(X_test)"
   ]
  },
  {
   "cell_type": "code",
   "execution_count": 155,
   "metadata": {},
   "outputs": [
    {
     "name": "stdout",
     "output_type": "stream",
     "text": [
      "Accuracy: 0.9758034379671151\n"
     ]
    }
   ],
   "source": [
    "print(\"Accuracy:\",metrics.accuracy_score(y_test, y_pred))"
   ]
  },
  {
   "cell_type": "markdown",
   "metadata": {},
   "source": [
    "### Obtenemos una precisión del 97.6% con el REMUESTREO de la información"
   ]
  },
  {
   "cell_type": "code",
   "execution_count": 156,
   "metadata": {},
   "outputs": [
    {
     "name": "stdout",
     "output_type": "stream",
     "text": [
      "[[0.9861403  0.0138597 ]\n",
      " [0.16947961 0.83052039]]\n"
     ]
    },
    {
     "data": {
      "image/png": "[encoded data removed]",
      "text/plain": [
       "<Figure size 864x576 with 2 Axes>"
      ]
     },
     "metadata": {
      "needs_background": "light"
     },
     "output_type": "display_data"
    }
   ],
   "source": [
    "disp = plot_confusion_matrix(forest_cla, X_test, y_test,\n",
    "                                 display_labels=[\"0\", \"1\"],cmap=plt.cm.Blues, normalize = 'true')\n",
    "\n",
    "print(disp.confusion_matrix)\n",
    "    \n",
    "plt.show()"
   ]
  },
  {
   "cell_type": "markdown",
   "metadata": {},
   "source": [
    "### Podemos observar que el porcentaje de calsificación para la categoría 1 es del 98.6% y para la categoría 0, del 83%, por ende, este modelo se considera un MEJOR modelo dada su matriz de confusión, ya que a diferencia del modelo sin la base remuestreada, hay 2.6% de mayor precisión en la categoría 0."
   ]
  },
  {
   "cell_type": "code",
   "execution_count": 157,
   "metadata": {},
   "outputs": [
    {
     "name": "stdout",
     "output_type": "stream",
     "text": [
      "Feature: 'Levdireccion' , Score: 0.13755\n",
      "Feature: 'Levdirnum' , Score: 0.34836\n",
      "Feature: 'Levpropietario' , Score: 0.04629\n",
      "Feature: 'Levtelefono' , Score: 0.00255\n",
      "Feature: 'Lev_Sticker' , Score: 0.02603\n",
      "Feature: 'Levnombreestablecimiento' , Score: 0.23004\n",
      "Feature: 'Distancia En Metros' , Score: 0.20917\n"
     ]
    }
   ],
   "source": [
    "importance = forest_cla.feature_importances_\n",
    "# summarize feature importance\n",
    "for i,v in zip(list(test_set.drop([\"Id_Tabla\", \"Match\"], axis = 1).columns), importance):\n",
    "    print('Feature: %a , Score: %.5f' % (i,v))"
   ]
  },
  {
   "cell_type": "markdown",
   "metadata": {},
   "source": [
    "### Observamos que las variables mas importantes son Levdirnum, Levnombreestablecimiento  y Distancia en metros, que si lo analizamos bien es un resultado que soporta las conclusiones superficiales que se realizaron con el análisis descriptivo."
   ]
  },
  {
   "cell_type": "markdown",
   "metadata": {},
   "source": [
    "# En conlusión el modelo óptimo de clasificación es el realizado por medio del remuestreo de la información, esta técnica permite obtener una caracterización mucho más importante de la información.\n"
   ]
  },
  {
   "cell_type": "markdown",
   "metadata": {},
   "source": [
    "# Muchas gracias"
   ]
  }
 ],
 "metadata": {
  "kernelspec": {
   "display_name": "Python 3",
   "language": "python",
   "name": "python3"
  },
  "language_info": {
   "codemirror_mode": {
    "name": "ipython",
    "version": 3
   },
   "file_extension": ".py",
   "mimetype": "text/x-python",
   "name": "python",
   "nbconvert_exporter": "python",
   "pygments_lexer": "ipython3",
   "version": "3.8.3"
  }
 },
 "nbformat": 4,
 "nbformat_minor": 4
}
